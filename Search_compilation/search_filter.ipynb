{
 "cells": [
  {
   "cell_type": "code",
   "execution_count": 90,
   "metadata": {},
   "outputs": [],
   "source": [
    "'''\n",
    "NAME    : search_filter\n",
    "PURPOSE : Process raw data to filter sensitive information.\n",
    "INPUT   : query_input.txt\n",
    "OUTPUT  : query_output.txt\n",
    "\n",
    "'''\n",
    "\n",
    "# File Name\n",
    "file_name = 'search_filter'\n",
    "input_file = 'query_input.txt'\n",
    "output_file = 'query_output.txt'\n",
    "\n",
    "keyword_list = ['my_nick', 'my_IP']"
   ]
  },
  {
   "cell_type": "code",
   "execution_count": 91,
   "metadata": {},
   "outputs": [],
   "source": [
    "'''IMPORTING LIBRARIES'''\n",
    "\n",
    "import pandas as pd\n",
    "import numpy as np\n",
    "import csv\n",
    "import os\n",
    "from pathlib import Path\n",
    "\n",
    "pd.set_option('display.max_rows', None)"
   ]
  },
  {
   "cell_type": "code",
   "execution_count": 92,
   "metadata": {},
   "outputs": [],
   "source": [
    "'''READING INPUT FILE'''\n",
    "\n",
    "file = open(input_file,\"r+\")\n",
    "query_input = file.readlines()\n",
    "file.close()\n",
    "\n",
    "#query_input[:5]"
   ]
  },
  {
   "cell_type": "code",
   "execution_count": 93,
   "metadata": {},
   "outputs": [
    {
     "name": "stdout",
     "output_type": "stream",
     "text": [
      "Instances of \"my_nick\" : 0\n",
      "Instances of \"my_IP\" : 0\n",
      "\n",
      "Total lines filtered : 0\n"
     ]
    }
   ],
   "source": [
    "'''FILTERING INPUT FILE'''\n",
    "\n",
    "filterred_list = []\n",
    "count_list = np.zeros(len(keyword_list))\n",
    "\n",
    "total_count=0\n",
    "\n",
    "for i in range(len(query_input)):\n",
    "    line = query_input[i]\n",
    "    keyword_num = 0\n",
    "    flag=0\n",
    "        \n",
    "    for keyword in keyword_list:\n",
    "    \n",
    "        if line.find(keyword) == -1:\n",
    "            # Keyword not present in line.\n",
    "            keyword_num += 1\n",
    "            continue\n",
    "        else:\n",
    "            # Keyword present in line.\n",
    "            flag=1\n",
    "            count_list[keyword_num] += 1\n",
    "            break\n",
    "    \n",
    "    if flag==0:\n",
    "        filterred_list.append(line)\n",
    "    else:\n",
    "        pos = line.find(']')\n",
    "        filterred_list.append(line[:pos+1] + '\\n')\n",
    "        \n",
    "for i in range(len(keyword_list)):\n",
    "    print(\"Instances of \\\"{}\\\" : {:.0f}\".format(keyword_list[i], count_list[i]))\n",
    "    \n",
    "print(\"\\nTotal lines filtered :\", int(sum(count_list)))"
   ]
  },
  {
   "cell_type": "code",
   "execution_count": 94,
   "metadata": {
    "scrolled": false
   },
   "outputs": [],
   "source": [
    "'''SAVING FILTERED LIST'''\n",
    "\n",
    "myFile = open(output_file, \"w\")\n",
    "\n",
    "for item in filterred_list:\n",
    "    myFile.write(\"%s\" % item)\n",
    "\n",
    "myFile.close()"
   ]
  },
  {
   "cell_type": "code",
   "execution_count": null,
   "metadata": {},
   "outputs": [],
   "source": []
  }
 ],
 "metadata": {
  "kernelspec": {
   "display_name": "Python 3",
   "language": "python",
   "name": "python3"
  },
  "language_info": {
   "codemirror_mode": {
    "name": "ipython",
    "version": 3
   },
   "file_extension": ".py",
   "mimetype": "text/x-python",
   "name": "python",
   "nbconvert_exporter": "python",
   "pygments_lexer": "ipython3",
   "version": "3.6.1"
  }
 },
 "nbformat": 4,
 "nbformat_minor": 2
}
