{
 "cells": [
  {
   "cell_type": "code",
   "execution_count": 17,
   "metadata": {},
   "outputs": [],
   "source": [
    "'''\n",
    "NAME    : search_compilation\n",
    "PURPOSE : Process raw search and extract IP, nick, hostel and query data from it.\n",
    "INPUT   : query_input.txt\n",
    "OUTPUT  : query_output.csv\n",
    "\n",
    "NOTE:\n",
    "--- F?T?0?9? : NICK + TTH\n",
    "--- F?T?0?9? : IP   + TTH\n",
    "--- F?T?0?1? : IP   + QUERY\n",
    "--- F?T?0?1? : NICK + QUERY\n",
    "'''\n",
    "\n",
    "# File Name\n",
    "file_name = 'search_compilation'\n",
    "input_file = 'query_input#.txt'\n",
    "output_file = 'query_output.csv'"
   ]
  },
  {
   "cell_type": "markdown",
   "metadata": {},
   "source": [
    "# PRELIMINARY"
   ]
  },
  {
   "cell_type": "code",
   "execution_count": 18,
   "metadata": {},
   "outputs": [],
   "source": [
    "'''IMPORTING LIBRARIES'''\n",
    "\n",
    "import pandas as pd\n",
    "import numpy as np\n",
    "import csv\n",
    "import os\n",
    "from pathlib import Path\n",
    "\n",
    "pd.set_option('display.max_rows', None)"
   ]
  },
  {
   "cell_type": "code",
   "execution_count": 19,
   "metadata": {},
   "outputs": [],
   "source": [
    "'''REMOVING PREVIOUS OUTPUT FILES'''\n",
    "\n",
    "for i in ['query_output.csv'] :\n",
    "    if Path(i).is_file():\n",
    "            os.remove(i)"
   ]
  },
  {
   "cell_type": "markdown",
   "metadata": {},
   "source": [
    "# READING INPUT"
   ]
  },
  {
   "cell_type": "code",
   "execution_count": 20,
   "metadata": {},
   "outputs": [
    {
     "data": {
      "text/plain": [
       "['0 [In] 10.4.5.10:500 (Hub <10.4.5.10:500>): $Search 10.3.9.24:5770 F?T?0?9?TTH:IXMXMEU5B5SGPLSCVQ6PNKAV67BUFJMVB67THSI\\n',\n",
       " '1 [In] 10.4.5.10:500 (Hub <10.4.5.10:500>): $Search Hub:bunnydsm F?T?0?9?TTH:U6MGXOFEEDTKXOHLV6EZAQ6IXKXKX6UYMBFROQI\\n',\n",
       " '2 [In] 10.4.7.111:500 (Hub <10.4.7.111:500>): $Search Hub:fyfyfyfyfyfyfyfyffyfyfy F?T?0?9?TTH:2IFHEE6TGFCKKRUL7MZXLKW54HDTOVXYUJLDOCQ\\n',\n",
       " '3 [In] 10.4.7.111:500 (Hub <10.4.7.111:500>): $Search Hub:Oranos F?T?0?9?TTH:QDW3TODI3MWPIQMQKA6IXBCLDBPOQCLKNZW4VRA\\n',\n",
       " '4 [In] 10.4.5.10:500 (Hub <10.4.5.10:500>): $Search Hub:Oranos F?T?0?9?TTH:QSFQSRTVYNJFWBFFAL3DO74Z7J727QRY27AI27Y\\n']"
      ]
     },
     "execution_count": 20,
     "metadata": {},
     "output_type": "execute_result"
    }
   ],
   "source": [
    "'''READING INPUT FILE'''\n",
    "\n",
    "file = open(input_file,\"r+\")\n",
    "query_input = file.readlines()\n",
    "file.close()\n",
    "\n",
    "#print(query_input[141])\n",
    "#print(query_input[319])\n",
    "query_input[:5]"
   ]
  },
  {
   "cell_type": "markdown",
   "metadata": {
    "collapsed": true
   },
   "source": [
    "# Query List"
   ]
  },
  {
   "cell_type": "code",
   "execution_count": 21,
   "metadata": {},
   "outputs": [],
   "source": [
    "'''DEFINING QUERY LIST'''\n",
    "\n",
    "query_list = []\n",
    "query_list.append([\"Token\", \"Reference\", \"Hub\", \"IP\", \"Nick\", \"Query\"])"
   ]
  },
  {
   "cell_type": "code",
   "execution_count": 22,
   "metadata": {
    "scrolled": false
   },
   "outputs": [],
   "source": [
    "'''ADDING QUERIES TO QUERY LIST'''\n",
    "\n",
    "for i in range(len(query_input)):\n",
    "    line = query_input[i]\n",
    "    \n",
    "    if line.find('F?T?0?1?') == -1:\n",
    "        # Search for a specific file TTH, skip for now.\n",
    "        continue\n",
    "    else:\n",
    "        if line.find('Hub:') == -1:\n",
    "            # reference = IP\n",
    "            rip_start = line.find('$Search') + 8\n",
    "            rip_end = line.find('F?T?0?1?') - 1\n",
    "            rip = line[rip_start:rip_end]\n",
    "            reference = rip\n",
    "            ip = rip\n",
    "            nick = '-'\n",
    "            \n",
    "        else:               \n",
    "            # reference = nick        \n",
    "            rnick_start = line.find('$Search Hub') + 12                  \n",
    "            rnick_end = line.find('F?T?0?1?') - 1\n",
    "            rnick = line[rnick_start:rnick_end] \n",
    "            reference = rnick\n",
    "            ip = '-'\n",
    "            nick = rnick\n",
    "         \n",
    "        # Define query\n",
    "        query_start = line.find('F?T?0?1?') + 8\n",
    "        query = line[query_start:].replace('$', ' ')[:-1]               \n",
    "        \n",
    "        # Define token\n",
    "        token_end = line.find(\"[\") - 1\n",
    "        token = line[:token_end]                                                                     \n",
    "         \n",
    "        # Define hub\n",
    "        if line.find('10.4.7.111:500') == -1:                           \n",
    "            hub = 'Woodstock'\n",
    "        else:\n",
    "            hub = 'Titan'\n",
    "        \n",
    "        # Add query element to query_list\n",
    "        query_list.append([token, reference, hub, ip, nick, query])\n"
   ]
  },
  {
   "cell_type": "code",
   "execution_count": 23,
   "metadata": {},
   "outputs": [],
   "source": [
    "'''SAVING QUERY LIST'''\n",
    "\n",
    "myFile = open(output_file, 'w')\n",
    "with myFile:\n",
    "    writer = csv.writer(myFile)\n",
    "    writer.writerows(query_list)"
   ]
  },
  {
   "cell_type": "markdown",
   "metadata": {},
   "source": [
    "# Analysis"
   ]
  },
  {
   "cell_type": "code",
   "execution_count": 24,
   "metadata": {
    "scrolled": false
   },
   "outputs": [
    {
     "name": "stdout",
     "output_type": "stream",
     "text": [
      "Total Queries made :  6073\n"
     ]
    },
    {
     "data": {
      "text/html": [
       "<div>\n",
       "<style>\n",
       "    .dataframe thead tr:only-child th {\n",
       "        text-align: right;\n",
       "    }\n",
       "\n",
       "    .dataframe thead th {\n",
       "        text-align: left;\n",
       "    }\n",
       "\n",
       "    .dataframe tbody tr th {\n",
       "        vertical-align: top;\n",
       "    }\n",
       "</style>\n",
       "<table border=\"1\" class=\"dataframe\">\n",
       "  <thead>\n",
       "    <tr style=\"text-align: right;\">\n",
       "      <th></th>\n",
       "      <th>Token</th>\n",
       "      <th>Reference</th>\n",
       "      <th>Hub</th>\n",
       "      <th>IP</th>\n",
       "      <th>Nick</th>\n",
       "      <th>Query</th>\n",
       "    </tr>\n",
       "  </thead>\n",
       "  <tbody>\n",
       "    <tr>\n",
       "      <th>0</th>\n",
       "      <td>141</td>\n",
       "      <td>10.4.11.151:5134</td>\n",
       "      <td>Woodstock</td>\n",
       "      <td>10.4.11.151:5134</td>\n",
       "      <td>-</td>\n",
       "      <td>kayden kross</td>\n",
       "    </tr>\n",
       "    <tr>\n",
       "      <th>1</th>\n",
       "      <td>149</td>\n",
       "      <td>10.4.11.151:5134</td>\n",
       "      <td>Woodstock</td>\n",
       "      <td>10.4.11.151:5134</td>\n",
       "      <td>-</td>\n",
       "      <td>holly michaels</td>\n",
       "    </tr>\n",
       "    <tr>\n",
       "      <th>2</th>\n",
       "      <td>160</td>\n",
       "      <td>10.3.15.12:56411</td>\n",
       "      <td>Woodstock</td>\n",
       "      <td>10.3.15.12:56411</td>\n",
       "      <td>-</td>\n",
       "      <td>bootcamp</td>\n",
       "    </tr>\n",
       "    <tr>\n",
       "      <th>3</th>\n",
       "      <td>319</td>\n",
       "      <td>Tohra__Bappa</td>\n",
       "      <td>Titan</td>\n",
       "      <td>-</td>\n",
       "      <td>Tohra__Bappa</td>\n",
       "      <td>power systems</td>\n",
       "    </tr>\n",
       "    <tr>\n",
       "      <th>4</th>\n",
       "      <td>320</td>\n",
       "      <td>Tohra__Bappa</td>\n",
       "      <td>Woodstock</td>\n",
       "      <td>-</td>\n",
       "      <td>Tohra__Bappa</td>\n",
       "      <td>power systems</td>\n",
       "    </tr>\n",
       "    <tr>\n",
       "      <th>5</th>\n",
       "      <td>346</td>\n",
       "      <td>Tohra__Bappa</td>\n",
       "      <td>Titan</td>\n",
       "      <td>-</td>\n",
       "      <td>Tohra__Bappa</td>\n",
       "      <td>power system engineering</td>\n",
       "    </tr>\n",
       "    <tr>\n",
       "      <th>6</th>\n",
       "      <td>347</td>\n",
       "      <td>Tohra__Bappa</td>\n",
       "      <td>Woodstock</td>\n",
       "      <td>-</td>\n",
       "      <td>Tohra__Bappa</td>\n",
       "      <td>power system engineering</td>\n",
       "    </tr>\n",
       "    <tr>\n",
       "      <th>7</th>\n",
       "      <td>361</td>\n",
       "      <td>Tohra__Bappa</td>\n",
       "      <td>Titan</td>\n",
       "      <td>-</td>\n",
       "      <td>Tohra__Bappa</td>\n",
       "      <td>power electronics</td>\n",
       "    </tr>\n",
       "    <tr>\n",
       "      <th>8</th>\n",
       "      <td>363</td>\n",
       "      <td>Tohra__Bappa</td>\n",
       "      <td>Woodstock</td>\n",
       "      <td>-</td>\n",
       "      <td>Tohra__Bappa</td>\n",
       "      <td>power electronics</td>\n",
       "    </tr>\n",
       "    <tr>\n",
       "      <th>9</th>\n",
       "      <td>378</td>\n",
       "      <td>thepunisher...</td>\n",
       "      <td>Woodstock</td>\n",
       "      <td>-</td>\n",
       "      <td>thepunisher...</td>\n",
       "      <td>mup labs</td>\n",
       "    </tr>\n",
       "    <tr>\n",
       "      <th>10</th>\n",
       "      <td>379</td>\n",
       "      <td>thepunisher...</td>\n",
       "      <td>Titan</td>\n",
       "      <td>-</td>\n",
       "      <td>thepunisher...</td>\n",
       "      <td>mup labs</td>\n",
       "    </tr>\n",
       "    <tr>\n",
       "      <th>11</th>\n",
       "      <td>396</td>\n",
       "      <td>10.3.10.108:50016</td>\n",
       "      <td>Woodstock</td>\n",
       "      <td>10.3.10.108:50016</td>\n",
       "      <td>-</td>\n",
       "      <td>solidworks 2017</td>\n",
       "    </tr>\n",
       "    <tr>\n",
       "      <th>12</th>\n",
       "      <td>397</td>\n",
       "      <td>10.3.10.108:50016</td>\n",
       "      <td>Titan</td>\n",
       "      <td>10.3.10.108:50016</td>\n",
       "      <td>-</td>\n",
       "      <td>solidworks 2017</td>\n",
       "    </tr>\n",
       "    <tr>\n",
       "      <th>13</th>\n",
       "      <td>408</td>\n",
       "      <td>asdgv</td>\n",
       "      <td>Woodstock</td>\n",
       "      <td>-</td>\n",
       "      <td>asdgv</td>\n",
       "      <td>solidworks</td>\n",
       "    </tr>\n",
       "    <tr>\n",
       "      <th>14</th>\n",
       "      <td>409</td>\n",
       "      <td>asdgv</td>\n",
       "      <td>Titan</td>\n",
       "      <td>-</td>\n",
       "      <td>asdgv</td>\n",
       "      <td>solidworks</td>\n",
       "    </tr>\n",
       "    <tr>\n",
       "      <th>15</th>\n",
       "      <td>477</td>\n",
       "      <td>pavriustom</td>\n",
       "      <td>Woodstock</td>\n",
       "      <td>-</td>\n",
       "      <td>pavriustom</td>\n",
       "      <td>cs f241</td>\n",
       "    </tr>\n",
       "    <tr>\n",
       "      <th>16</th>\n",
       "      <td>483</td>\n",
       "      <td>pavriustom</td>\n",
       "      <td>Woodstock</td>\n",
       "      <td>-</td>\n",
       "      <td>pavriustom</td>\n",
       "      <td>microprocessors</td>\n",
       "    </tr>\n",
       "    <tr>\n",
       "      <th>17</th>\n",
       "      <td>516</td>\n",
       "      <td>pavriustom</td>\n",
       "      <td>Woodstock</td>\n",
       "      <td>-</td>\n",
       "      <td>pavriustom</td>\n",
       "      <td>microprocessors lab</td>\n",
       "    </tr>\n",
       "    <tr>\n",
       "      <th>18</th>\n",
       "      <td>524</td>\n",
       "      <td>pavriustom</td>\n",
       "      <td>Woodstock</td>\n",
       "      <td>-</td>\n",
       "      <td>pavriustom</td>\n",
       "      <td>microprocessors lab2</td>\n",
       "    </tr>\n",
       "    <tr>\n",
       "      <th>19</th>\n",
       "      <td>624</td>\n",
       "      <td>Tohra__Bappa</td>\n",
       "      <td>Woodstock</td>\n",
       "      <td>-</td>\n",
       "      <td>Tohra__Bappa</td>\n",
       "      <td>analog electronics</td>\n",
       "    </tr>\n",
       "  </tbody>\n",
       "</table>\n",
       "</div>"
      ],
      "text/plain": [
       "    Token          Reference        Hub                 IP            Nick  \\\n",
       "0     141   10.4.11.151:5134  Woodstock   10.4.11.151:5134               -   \n",
       "1     149   10.4.11.151:5134  Woodstock   10.4.11.151:5134               -   \n",
       "2     160   10.3.15.12:56411  Woodstock   10.3.15.12:56411               -   \n",
       "3     319       Tohra__Bappa      Titan                  -    Tohra__Bappa   \n",
       "4     320       Tohra__Bappa  Woodstock                  -    Tohra__Bappa   \n",
       "5     346       Tohra__Bappa      Titan                  -    Tohra__Bappa   \n",
       "6     347       Tohra__Bappa  Woodstock                  -    Tohra__Bappa   \n",
       "7     361       Tohra__Bappa      Titan                  -    Tohra__Bappa   \n",
       "8     363       Tohra__Bappa  Woodstock                  -    Tohra__Bappa   \n",
       "9     378     thepunisher...  Woodstock                  -  thepunisher...   \n",
       "10    379     thepunisher...      Titan                  -  thepunisher...   \n",
       "11    396  10.3.10.108:50016  Woodstock  10.3.10.108:50016               -   \n",
       "12    397  10.3.10.108:50016      Titan  10.3.10.108:50016               -   \n",
       "13    408              asdgv  Woodstock                  -           asdgv   \n",
       "14    409              asdgv      Titan                  -           asdgv   \n",
       "15    477         pavriustom  Woodstock                  -      pavriustom   \n",
       "16    483         pavriustom  Woodstock                  -      pavriustom   \n",
       "17    516         pavriustom  Woodstock                  -      pavriustom   \n",
       "18    524         pavriustom  Woodstock                  -      pavriustom   \n",
       "19    624       Tohra__Bappa  Woodstock                  -    Tohra__Bappa   \n",
       "\n",
       "                       Query  \n",
       "0               kayden kross  \n",
       "1             holly michaels  \n",
       "2                   bootcamp  \n",
       "3              power systems  \n",
       "4              power systems  \n",
       "5   power system engineering  \n",
       "6   power system engineering  \n",
       "7          power electronics  \n",
       "8          power electronics  \n",
       "9                   mup labs  \n",
       "10                  mup labs  \n",
       "11           solidworks 2017  \n",
       "12           solidworks 2017  \n",
       "13                solidworks  \n",
       "14                solidworks  \n",
       "15                   cs f241  \n",
       "16           microprocessors  \n",
       "17       microprocessors lab  \n",
       "18      microprocessors lab2  \n",
       "19        analog electronics  "
      ]
     },
     "execution_count": 24,
     "metadata": {},
     "output_type": "execute_result"
    }
   ],
   "source": [
    "'''IMPORTING FORMATTED QUERY LIST'''\n",
    "\n",
    "query_df = pd.read_csv(output_file)\n",
    "print(\"Total Queries made : \", len(query_df))\n",
    "\n",
    "query_df.head(20)\n",
    "#query_df.sort_values(by = 'Nick', ascending=False)\n",
    "#stats.sort_values(by = 'IP', ascending=False)"
   ]
  },
  {
   "cell_type": "code",
   "execution_count": 25,
   "metadata": {},
   "outputs": [
    {
     "data": {
      "text/plain": [
       "Nick\n",
       "chal_hat            60\n",
       "Greay               54\n",
       "123456helloworld    52\n",
       "q;qofeivneo[in      49\n",
       "baba_bakchod        42\n",
       "108                 42\n",
       "indiejjhsauhx2a     40\n",
       "jellybear           38\n",
       "Dumber              34\n",
       "AstonMartin         30\n",
       "Stratocaster        30\n",
       "barnaana            29\n",
       "alamara             29\n",
       "brokamladi          28\n",
       "Capt.America        28\n",
       "dtype: int64"
      ]
     },
     "execution_count": 25,
     "metadata": {},
     "output_type": "execute_result"
    }
   ],
   "source": [
    "'''MOST QUERIES BY A NICK'''\n",
    "\n",
    "most = query_df.groupby('Nick',).size()\n",
    "most = most.sort_values(ascending=False)[1:]\n",
    "most.head(15)"
   ]
  },
  {
   "cell_type": "code",
   "execution_count": 26,
   "metadata": {},
   "outputs": [
    {
     "name": "stdout",
     "output_type": "stream",
     "text": [
      "Total Length : 50833\n",
      "Query Length : 6073\n",
      "Search Ratio : 8.37\n"
     ]
    }
   ],
   "source": [
    "print(\"Total Length : \" + str(len(query_input)))\n",
    "print(\"Query Length : \" + str(len(query_df)))\n",
    "print(\"Search Ratio : \" + str(round((len(query_input)/len(query_df)),2)))"
   ]
  },
  {
   "cell_type": "markdown",
   "metadata": {
    "scrolled": true
   },
   "source": [
    "# BACKUP"
   ]
  },
  {
   "cell_type": "code",
   "execution_count": 28,
   "metadata": {},
   "outputs": [],
   "source": [
    "'''BACKUP'''\n",
    "\n",
    "# Provide backup_as\n",
    "backup_as = 'query_backup_1.csv'\n",
    "\n",
    "# Exporting the 'master' dataframe to csv file as a backup\n",
    "query_df.to_csv(os.path.join('query_backup',backup_as), index=False, header=True)"
   ]
  },
  {
   "cell_type": "code",
   "execution_count": null,
   "metadata": {},
   "outputs": [],
   "source": []
  }
 ],
 "metadata": {
  "kernelspec": {
   "display_name": "Python 3",
   "language": "python",
   "name": "python3"
  },
  "language_info": {
   "codemirror_mode": {
    "name": "ipython",
    "version": 3
   },
   "file_extension": ".py",
   "mimetype": "text/x-python",
   "name": "python",
   "nbconvert_exporter": "python",
   "pygments_lexer": "ipython3",
   "version": "3.6.1"
  }
 },
 "nbformat": 4,
 "nbformat_minor": 2
}
