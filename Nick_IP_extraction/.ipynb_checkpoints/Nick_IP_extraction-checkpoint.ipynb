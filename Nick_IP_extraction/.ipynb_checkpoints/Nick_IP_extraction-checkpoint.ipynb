{
 "cells": [
  {
   "cell_type": "code",
   "execution_count": 2,
   "metadata": {},
   "outputs": [],
   "source": [
    "'''\n",
    "NAME    : nick_IP_extraction.\n",
    "PURPOSE : Process raw Nick-IP and add it to the existing repository. \n",
    "          Takes input that has been extracted from the sidebar and search of apex-dc++.\n",
    "\n",
    "FOR IMPORTING FORM SIDEBAR\n",
    "- Input  : sidebar_input.csv\n",
    "- Output : sidebar_output.csv\n",
    "\n",
    "FOR IMPORTING FORM SEARCH\n",
    "- Input  : search_input.csv\n",
    "- Output : search_output.csv\n",
    "'''\n",
    "\n",
    "# File Name\n",
    "file_name = 'nick_IP_extraction'"
   ]
  },
  {
   "cell_type": "markdown",
   "metadata": {
    "collapsed": true
   },
   "source": [
    "# PRELIMINARY"
   ]
  },
  {
   "cell_type": "code",
   "execution_count": 3,
   "metadata": {},
   "outputs": [],
   "source": [
    "'''IMPORTING LIBRARIES'''\n",
    "\n",
    "import pandas as pd\n",
    "import numpy as np\n",
    "import os\n",
    "from collections import defaultdict\n",
    "from pathlib import Path\n",
    "\n",
    "pd.set_option('display.max_rows', None)                                   "
   ]
  },
  {
   "cell_type": "code",
   "execution_count": 4,
   "metadata": {},
   "outputs": [],
   "source": [
    "'''REMOVING PREVIOUS OUTPUT FILES'''\n",
    "\n",
    "for i in ['sidebar_output.csv', \n",
    "          'search_output.csv']:\n",
    "    if Path(i).is_file():\n",
    "            os.remove(i)"
   ]
  },
  {
   "cell_type": "markdown",
   "metadata": {
    "scrolled": true
   },
   "source": [
    "# SIDEBAR IMPORT"
   ]
  },
  {
   "cell_type": "code",
   "execution_count": null,
   "metadata": {},
   "outputs": [],
   "source": [
    "'''IMPORTING FROM SIDEBAR'''\n",
    "\n",
    "# Read \"sidebar_input\" csv containing all nicks to \"sidebar\" dataframe\n",
    "sidebar = pd.read_csv('sidebar_input.csv')\n",
    "print(\"Number of Imported Nicks :\", len(sidebar))\n",
    "\n",
    "# Filters 'Nick' and 'Ip' from raw input data\n",
    "sidebar = sidebar[['Nick', 'Ip']].copy()           \n",
    "\n",
    "# Modify the \"sidebar\" dataframe to include only entries with an IP\n",
    "sidebar = sidebar.dropna(axis=0, how='any')         \n",
    "\n",
    "# Export \"sidebar\" dataframe as a csv\n",
    "sidebar.to_csv('sidebar_output.csv', index=False)\n",
    "print(\"Number of Valid Nicks :\", len(sidebar))\n",
    "\n",
    "# Checks if 'Nick' is an entry under 'Nick' column \n",
    "print(\"\\nImporting mistake? :\",'Nick' in set(sidebar['Nick']))           # should return False \n",
    "\n",
    "# Checks if any entry has a missing 'Ip' value\n",
    "print(\"Is any IP missing? :\", sidebar.isnull().values.any())             # should return False \n",
    "\n",
    "sidebar.head()"
   ]
  },
  {
   "cell_type": "markdown",
   "metadata": {},
   "source": [
    "# SEARCH IMPORT"
   ]
  },
  {
   "cell_type": "code",
   "execution_count": null,
   "metadata": {},
   "outputs": [],
   "source": [
    "'''IMPORTING FROM SEARCH'''\n",
    "\n",
    "# Read input csv containing all nicks to \"search\" dataframe\n",
    "search = pd.read_csv('search_input.csv')\n",
    "\n",
    "# Filters 'User' and 'Ip' from raw input data\n",
    "search = search[['User', 'Ip']].copy()         \n",
    "\n",
    "# Renames 'User' to 'Nick'\n",
    "search.columns = ['Nick', 'Ip']                \n",
    "\n",
    "# Filters out duplicate values\n",
    "search = search.drop_duplicates('Nick')        \n",
    "\n",
    "# Export \"search\" dataframe as a csv\n",
    "search.to_csv('search_output.csv', index=False)\n",
    "\n",
    "# Checks if 'Nick' is an entry under 'Nick' column\n",
    "print(\"Importing mistake? :\", 'Nick' in set(search['Nick']))              # should return False\n",
    "\n",
    "print(\"Number of Nicks imported:\", len(search))\n",
    "search.head()"
   ]
  },
  {
   "cell_type": "markdown",
   "metadata": {},
   "source": [
    "# SELECTING SOURCE"
   ]
  },
  {
   "cell_type": "code",
   "execution_count": null,
   "metadata": {},
   "outputs": [],
   "source": [
    "'''SELECTING UPDATE SOURCE'''\n",
    "\n",
    "# Select source format between sidebar/search\n",
    "\n",
    "### SIDEBAR\n",
    "source = pd.read_csv('sidebar_output.csv')        \n",
    "\n",
    "### SEARCH\n",
    "# source = pd.read_csv('search_output.csv')         \n",
    "\n",
    "print(\"Number of Nicks imported to source :\", len(source))\n",
    "source.head()"
   ]
  },
  {
   "cell_type": "markdown",
   "metadata": {},
   "source": [
    "# HANDLING MASTER"
   ]
  },
  {
   "cell_type": "code",
   "execution_count": null,
   "metadata": {},
   "outputs": [],
   "source": [
    "'''INITIALISING MASTER'''\n",
    "### NOTE: SKIP AFTER INITIAL TRIAL.\n",
    "\n",
    "def make_master():\n",
    "        master = pd.DataFrame({'Nick' : [], 'Ip' : []})\n",
    "        master.columns = ['Nick', 'Ip']\n",
    "        return master\n",
    "\n",
    "master = make_master()"
   ]
  },
  {
   "cell_type": "code",
   "execution_count": 3,
   "metadata": {},
   "outputs": [
    {
     "name": "stdout",
     "output_type": "stream",
     "text": [
      "Number of Nicks in Restored Master : 399\n"
     ]
    },
    {
     "data": {
      "text/html": [
       "<div>\n",
       "<style>\n",
       "    .dataframe thead tr:only-child th {\n",
       "        text-align: right;\n",
       "    }\n",
       "\n",
       "    .dataframe thead th {\n",
       "        text-align: left;\n",
       "    }\n",
       "\n",
       "    .dataframe tbody tr th {\n",
       "        vertical-align: top;\n",
       "    }\n",
       "</style>\n",
       "<table border=\"1\" class=\"dataframe\">\n",
       "  <thead>\n",
       "    <tr style=\"text-align: right;\">\n",
       "      <th></th>\n",
       "      <th>Nick</th>\n",
       "      <th>Ip</th>\n",
       "    </tr>\n",
       "  </thead>\n",
       "  <tbody>\n",
       "    <tr>\n",
       "      <th>0</th>\n",
       "      <td>Overlord</td>\n",
       "      <td>10.4.9.91</td>\n",
       "    </tr>\n",
       "    <tr>\n",
       "      <th>1</th>\n",
       "      <td>The_Doctor</td>\n",
       "      <td>10.4.9.65</td>\n",
       "    </tr>\n",
       "    <tr>\n",
       "      <th>2</th>\n",
       "      <td>tyrionisawesome</td>\n",
       "      <td>10.4.9.33</td>\n",
       "    </tr>\n",
       "    <tr>\n",
       "      <th>3</th>\n",
       "      <td>buckyball..</td>\n",
       "      <td>10.4.9.212</td>\n",
       "    </tr>\n",
       "    <tr>\n",
       "      <th>4</th>\n",
       "      <td>EnigMaXX</td>\n",
       "      <td>10.4.9.193</td>\n",
       "    </tr>\n",
       "  </tbody>\n",
       "</table>\n",
       "</div>"
      ],
      "text/plain": [
       "              Nick          Ip\n",
       "0         Overlord   10.4.9.91\n",
       "1       The_Doctor   10.4.9.65\n",
       "2  tyrionisawesome   10.4.9.33\n",
       "3      buckyball..  10.4.9.212\n",
       "4         EnigMaXX  10.4.9.193"
      ]
     },
     "execution_count": 3,
     "metadata": {},
     "output_type": "execute_result"
    }
   ],
   "source": [
    "'''RESTORE OLD MASTER'''\n",
    "### NOTE: USE AFTER INITIAL TRIAL.\n",
    "\n",
    "# Provide latest_backup_file\n",
    "latest_backup_file = 'nick_backup_1.csv'\n",
    "\n",
    "master = pd.read_csv(os.path.join('nick_backup',latest_backup_file))\n",
    "\n",
    "print(\"Number of Nicks in Restored Master :\",len(master))\n",
    "master.head()"
   ]
  },
  {
   "cell_type": "markdown",
   "metadata": {},
   "source": [
    "# UPDATING MASTER"
   ]
  },
  {
   "cell_type": "code",
   "execution_count": null,
   "metadata": {},
   "outputs": [],
   "source": [
    "'''UPDATING MASTER''' \n",
    "\n",
    "# Saving the old master data as \"master_old\" dataframe\n",
    "master_old = master\n",
    "\n",
    "# Modify the \"master\" dataframe to include the \"source\" dataframe\n",
    "master = pd.concat([master, source], ignore_index=True)\n",
    "master.columns = ['Nick', 'Ip']\n",
    "\n",
    "# Removing duplicates that were already present in the old master\n",
    "master = master.drop_duplicates('Nick')   \n",
    "\n",
    "#master = master.sort_values('Nick')             # Sort by Nick\n",
    "#master = master.sort_values('Ip')               # Sort by IP\n",
    "\n",
    "print(\"Length of Master Database before update :\",len(master_old))\n",
    "print(\"Length of Master Database after update  :\",len(master))\n",
    "master.head()"
   ]
  },
  {
   "cell_type": "markdown",
   "metadata": {},
   "source": [
    "# BACKUP AND SUMMARY"
   ]
  },
  {
   "cell_type": "code",
   "execution_count": null,
   "metadata": {},
   "outputs": [],
   "source": [
    "'''BACKUP'''\n",
    "\n",
    "# Provide backup_as\n",
    "backup_as = 'nick_backup_2.csv'\n",
    "\n",
    "# Exporting the 'master' dataframe to csv file as a backup\n",
    "master.to_csv(os.path.join('nick_backup',backup_as), index=False, header=True)"
   ]
  },
  {
   "cell_type": "code",
   "execution_count": null,
   "metadata": {},
   "outputs": [],
   "source": [
    "'''SUMMARY'''\n",
    "\n",
    "# Determining the new items that have been added\n",
    "new_added = master[~master.index.isin(master_old.index)]\n",
    "\n",
    "print(\"No of new items added : \", len(new_added))\n",
    "new_added.head()"
   ]
  },
  {
   "cell_type": "markdown",
   "metadata": {},
   "source": [
    "# SEARCH FUNCTION"
   ]
  },
  {
   "cell_type": "code",
   "execution_count": null,
   "metadata": {},
   "outputs": [],
   "source": [
    "# Maps IP to hostel\n",
    "host = {\"10.4.5\"  : \"AH1\", \n",
    "        \"10.4.6\"  : \"AH2\", \n",
    "        \"10.4.7\"  : \"AH3\",\n",
    "        \"10.4.8\"  : \"AH4\", \n",
    "        \"10.4.9\"  : \"AH5\", \n",
    "        \"10.4.10\" : \"AH6\",\n",
    "        \"10.4.11\" : \"AH7\", \n",
    "        \"10.4.12\" : \"AH8\", \n",
    "        \"10.3.9\"  : \"AH9\",\n",
    "        \"10.3.10\" : \"CH1\", \n",
    "        \"10.3.11\" : \"CH1\", \n",
    "        \"10.3.12\" : \"CH2\",\n",
    "        \"10.3.13\" : \"CH3\", \n",
    "        \"10.3.14\" : \"CH4\", \n",
    "        \"10.3.15\" : \"CH5/6\",\n",
    "        \"10.3.16\" : \"CH5/6\",\n",
    "        \"10.4.15\" : \"CH7\",}\n",
    "host = defaultdict(lambda: 'Other', host)\n",
    "\n",
    "def get_host(ip):\n",
    "    # Return hostel for a given IP\n",
    "    l = (ip[5:].find('.')) + 5\n",
    "    hostel = host[str(ip[:l])]\n",
    "    return(hostel)"
   ]
  },
  {
   "cell_type": "code",
   "execution_count": 8,
   "metadata": {},
   "outputs": [
    {
     "name": "stdout",
     "output_type": "stream",
     "text": [
      "Is Nick in Database? : True\n",
      "\n",
      "Database Indice : 69\n",
      "IP of gazixxxx     : 10.4.12.169\n",
      "Hostel of gazixxxx : AH8\n"
     ]
    }
   ],
   "source": [
    "'''SEARCH FUNCTION - NICK'''\n",
    "# Returns information about queried nick\n",
    "\n",
    "# Enter nick to query\n",
    "nick_query = \"gazixxxx\"\n",
    "\n",
    "# Checks if Ip is available for nick\n",
    "print(\"Is Nick in Database? :\",nick_query in set(master['Nick']))    \n",
    "\n",
    "ind = list(np.where(master['Nick'] == nick_query)[0])\n",
    "print(\"\\nDatabase Indice : \" + str(ind[0]))\n",
    "print(\"IP of \" + nick_query + \"     : \" + master.Ip[ind[0]])\n",
    "print(\"Hostel of \" + nick_query + \" : \" + get_host(master.Ip[ind[0]]))"
   ]
  },
  {
   "cell_type": "code",
   "execution_count": 7,
   "metadata": {},
   "outputs": [
    {
     "name": "stdout",
     "output_type": "stream",
     "text": [
      "Nicks belonging to AH8 :\n",
      "- A.I.M\n",
      "- AgentP\n",
      "- BalikaVadhu\n",
      "- BertieWooster\n",
      "- Bluten11\n",
      "- ChotaBheemcyvhojk\n",
      "- DIEfshsha\n",
      "- DeFaLT\n",
      "- Deathstroke\n",
      "- Dexter\n",
      "- EngiNerd\n",
      "- GrimReoiukujbn\n",
      "- Hallelujah\n",
      "- Henry98\n",
      "- LedZep\n",
      "- Mandir_Yahi_Banega\n",
      "- Mark42\n",
      "- OnumBarr\n",
      "- PehchanKaun??\n",
      "- Primalr3d\n",
      "- Primalr3d_ki_mamisss\n",
      "- RAandome3sssss\n",
      "- RajaBabu\n",
      "- Rb7\n",
      "- SestiRendi\n",
      "- Sheldon@cooper\n",
      "- SlySeeker\n",
      "- Sol_Invictus\n",
      "- Vanguard1\n",
      "- aaargh\n",
      "- bababkchod\n",
      "- bat7\n",
      "- bear\n",
      "- chivi\n",
      "- daishinkan\n",
      "- dnbsa,dm.a\n",
      "- fdsf\n",
      "- fevikwik\n",
      "- gazixxxx\n",
      "- gloa\n",
      "- goldameir\n",
      "- insidious\n",
      "- oggy\n",
      "- simi_kk\n",
      "- supreme\n",
      "- wat\n",
      "- zaheer\n",
      "- ~katappa!~\n"
     ]
    }
   ],
   "source": [
    "'''SEARCH FUNCTION - HOSTEL'''\n",
    "# Returns information about queried hostel\n",
    "\n",
    "# Enter hostel to query\n",
    "hostel_query = \"AH8\"\n",
    "\n",
    "trial = master.sort_values('Nick')\n",
    "\n",
    "host_link = trial\n",
    "host_link[\"Hostel\"] = ''\n",
    "\n",
    "for i in range(len(trial)):\n",
    "    ip = host_link.iat[i,1]\n",
    "    l = (ip[5:].find('.')) + 5\n",
    "    hostel = host[str(ip[:l])]\n",
    "    host_link.iat[i,2] = hostel\n",
    "\n",
    "print(\"Nicks belonging to {} :\".format(hostel_query))\n",
    "for i in (np.where(host_link['Hostel'] == hostel_query)[0]):\n",
    "    print(\"-\", host_link.iat[i,0])"
   ]
  },
  {
   "cell_type": "code",
   "execution_count": null,
   "metadata": {},
   "outputs": [],
   "source": []
  },
  {
   "cell_type": "code",
   "execution_count": null,
   "metadata": {},
   "outputs": [],
   "source": []
  }
 ],
 "metadata": {
  "kernelspec": {
   "display_name": "Python 3",
   "language": "python",
   "name": "python3"
  },
  "language_info": {
   "codemirror_mode": {
    "name": "ipython",
    "version": 3
   },
   "file_extension": ".py",
   "mimetype": "text/x-python",
   "name": "python",
   "nbconvert_exporter": "python",
   "pygments_lexer": "ipython3",
   "version": "3.6.1"
  }
 },
 "nbformat": 4,
 "nbformat_minor": 2
}
